{
 "cells": [
  {
   "cell_type": "code",
   "execution_count": 2,
   "metadata": {},
   "outputs": [],
   "source": [
    "import sqlite3\n",
    "# con= sqlite3.connect('파일 이름을 작성하면 된다.')"
   ]
  },
  {
   "cell_type": "markdown",
   "metadata": {},
   "source": [
    "##### C(Create), R(Read), U(Update), D(Delete) 4가지 명령어로 통제"
   ]
  },
  {
   "cell_type": "code",
   "execution_count": 93,
   "metadata": {},
   "outputs": [],
   "source": [
    "# con=sqlite3.connect(\"D:\\DBBroswer\\SQLITE-STUDY\")\n",
    "# cursor=con.cursor()"
   ]
  },
  {
   "cell_type": "code",
   "execution_count": 14,
   "metadata": {},
   "outputs": [],
   "source": [
    "con=sqlite3.connect(\"Stock_data.db\") #sqlite를 통해 db 파일과 연결/ 없으면 생성\n",
    "con.execute(\"CREATE TABLE stock_data(H integer,integer,O integer,C integer)\") # H,L,O,C 칼럼을 가진 테이블 생성\n",
    "cursor=con.cursor() #커서 생성"
   ]
  },
  {
   "cell_type": "code",
   "execution_count": 19,
   "metadata": {},
   "outputs": [],
   "source": [
    "con=sqlite3.connect(\"Stock_data.db\")\n",
    "cursor=con.cursor()\n",
    "cursor.execute(\"INSERT INTO Stock_data VALUES('90000','88000','87000','92000')\")\n",
    "con.commit()\n",
    "con.close()"
   ]
  },
  {
   "cell_type": "code",
   "execution_count": 22,
   "metadata": {},
   "outputs": [
    {
     "ename": "OperationalError",
     "evalue": "table Stock_data has 4 columns but 5 values were supplied",
     "output_type": "error",
     "traceback": [
      "\u001b[1;31m---------------------------------------------------------------------------\u001b[0m",
      "\u001b[1;31mOperationalError\u001b[0m                          Traceback (most recent call last)",
      "Input \u001b[1;32mIn [22]\u001b[0m, in \u001b[0;36m<module>\u001b[1;34m\u001b[0m\n\u001b[0;32m      1\u001b[0m con\u001b[38;5;241m=\u001b[39msqlite3\u001b[38;5;241m.\u001b[39mconnect(\u001b[38;5;124m\"\u001b[39m\u001b[38;5;124mStock_data.db\u001b[39m\u001b[38;5;124m\"\u001b[39m)\n\u001b[0;32m      2\u001b[0m cursor\u001b[38;5;241m=\u001b[39mcon\u001b[38;5;241m.\u001b[39mcursor()\n\u001b[1;32m----> 3\u001b[0m \u001b[43mcon\u001b[49m\u001b[38;5;241;43m.\u001b[39;49m\u001b[43mexecute\u001b[49m\u001b[43m(\u001b[49m\u001b[38;5;124;43m\"\u001b[39;49m\u001b[38;5;124;43mINSERT INTO Stock_data VALUES(\u001b[39;49m\u001b[38;5;124;43m'\u001b[39;49m\u001b[38;5;124;43mKakao\u001b[39;49m\u001b[38;5;124;43m'\u001b[39;49m\u001b[38;5;124;43m,\u001b[39;49m\u001b[38;5;124;43m'\u001b[39;49m\u001b[38;5;124;43m95000\u001b[39;49m\u001b[38;5;124;43m'\u001b[39;49m\u001b[38;5;124;43m,\u001b[39;49m\u001b[38;5;124;43m'\u001b[39;49m\u001b[38;5;124;43m90000\u001b[39;49m\u001b[38;5;124;43m'\u001b[39;49m\u001b[38;5;124;43m,\u001b[39;49m\u001b[38;5;124;43m'\u001b[39;49m\u001b[38;5;124;43m90000\u001b[39;49m\u001b[38;5;124;43m'\u001b[39;49m\u001b[38;5;124;43m,\u001b[39;49m\u001b[38;5;124;43m'\u001b[39;49m\u001b[38;5;124;43m97000\u001b[39;49m\u001b[38;5;124;43m'\u001b[39;49m\u001b[38;5;124;43m)\u001b[39;49m\u001b[38;5;124;43m\"\u001b[39;49m\u001b[43m)\u001b[49m\n\u001b[0;32m      4\u001b[0m con\u001b[38;5;241m.\u001b[39mcommit()\n\u001b[0;32m      5\u001b[0m con\u001b[38;5;241m.\u001b[39mclose()\n",
      "\u001b[1;31mOperationalError\u001b[0m: table Stock_data has 4 columns but 5 values were supplied"
     ]
    }
   ],
   "source": [
    "con=sqlite3.connect(\"Stock_data.db\")\n",
    "cursor=con.cursor()\n",
    "con.execute(\"INSERT INTO Stock_data VALUES('Kakao','95000','90000','90000','97000')\")\n",
    "con.commit()\n",
    "con.close()"
   ]
  },
  {
   "cell_type": "markdown",
   "metadata": {},
   "source": [
    "### 오류해결후 다시 시도"
   ]
  },
  {
   "cell_type": "code",
   "execution_count": 2,
   "metadata": {},
   "outputs": [],
   "source": [
    "import sqlite3\n",
    "con=sqlite3.connect(\"Stock_OHLC.db\") #Stock info 라는 db 파일을 생성,연결\n",
    "#con.execute(\"CREATE TABLE Stock_OHLC(Stock_name,O,H,L,C)\") #테이블 생성/ 밸류 이름들은 고칠 수 없으니 잘 할 것\n",
    "con.commit()\n",
    "cursor = con.cursor()\n",
    "#항상 execute 하면 commit하기"
   ]
  },
  {
   "cell_type": "code",
   "execution_count": 3,
   "metadata": {},
   "outputs": [],
   "source": [
    "cursor.execute(\"INSERT INTO Stock_OHLC VALUES('Samsung','90000','88000','87000','92000')\") #스톡 인포에 다음과 같은 벨류들을 insert\\\n",
    "con.commit()\n",
    "cursor.execute(\"INSERT INTO Stock_OHLC VALUES('Kakao','95000','90000','90000','97000')\")\n",
    "con.commit()"
   ]
  },
  {
   "cell_type": "code",
   "execution_count": 4,
   "metadata": {},
   "outputs": [],
   "source": [
    "cursor.execute(\"INSERT INTO Stock_OHLC VALUES('LG','100000','110000','100000','110000')\")\n",
    "con.commit()"
   ]
  },
  {
   "cell_type": "code",
   "execution_count": 5,
   "metadata": {},
   "outputs": [
    {
     "name": "stdout",
     "output_type": "stream",
     "text": [
      "[('Samsung', '90000', '88000', '87000', '92000'), ('Kakao', '95000', '90000', '90000', '97000'), ('Samsung', '90000', '88000', '87000', '92000'), ('Kakao', '95000', '90000', '90000', '97000'), ('LG', '100000', '110000', '100000', '110000'), ('Samsung', '90000', '88000', '87000', '92000'), ('Kakao', '95000', '90000', '90000', '97000'), ('LG', '100000', '110000', '100000', '110000'), ('Samsung', '90000', '88000', '87000', '92000'), ('Kakao', '95000', '90000', '90000', '97000'), ('LG', '100000', '110000', '100000', '110000')]\n"
     ]
    }
   ],
   "source": [
    "cursor.execute(\"SELECT * FROM Stock_OHLC\") #전부 선택한거\n",
    "a=cursor.fetchall() #fetchone()은 한줄, fetchall()는 전부, fetchmany(size=x)는 x줄 읽기\n",
    "con.commit()\n",
    "print(a)\n",
    "con.close()\n",
    "\n",
    "\n",
    "\n"
   ]
  },
  {
   "cell_type": "code",
   "execution_count": 6,
   "metadata": {},
   "outputs": [
    {
     "name": "stdout",
     "output_type": "stream",
     "text": [
      "[('Samsung', '90000', '88000', '87000', '92000'), ('Kakao', '95000', '90000', '90000', '97000'), ('Samsung', '90000', '88000', '87000', '92000'), ('Kakao', '95000', '90000', '90000', '97000'), ('LG', '100000', '110000', '100000', '110000'), ('Samsung', '90000', '88000', '87000', '92000'), ('Kakao', '95000', '90000', '90000', '97000'), ('LG', '100000', '110000', '100000', '110000'), ('Samsung', '90000', '88000', '87000', '92000'), ('Kakao', '95000', '90000', '90000', '97000'), ('LG', '100000', '110000', '100000', '110000')]\n"
     ]
    }
   ],
   "source": [
    "con=sqlite3.connect(\"Stock_OHLC.db\") #close를 해버리면 다시 폴더를 열때 이렇게 connect를 해줘야 한다\n",
    "cursor = con.cursor()\n",
    "cursor.execute(\"SELECT * FROM Stock_OHLC\") #전부 선택한거\n",
    "a=cursor.fetchall() #fetchone()은 한줄, fetchall()는 전부, fetchmany(size=x)는 x줄 읽기\n",
    "con.commit()\n",
    "print(a)\n",
    "con.close()"
   ]
  },
  {
   "cell_type": "code",
   "execution_count": 7,
   "metadata": {},
   "outputs": [],
   "source": [
    "con=sqlite3.connect(\"Stock_OHLC.db\") #close를 해버리면 다시 폴더를 열때 이렇게 connect를 해줘야 한다\n",
    "cursor = con.cursor()\n",
    "cursor.execute(\"DELETE FROM Stock_OHLC WHERE Stock_name=?\",('Samsung',))\n",
    "con.commit()\n",
    "con.close()"
   ]
  },
  {
   "cell_type": "code",
   "execution_count": 10,
   "metadata": {},
   "outputs": [],
   "source": [
    "con=sqlite3.connect(\"Stock_OHLC.db\") #close를 해버리면 다시 폴더를 열때 이렇게 connect를 해줘야 한다\n",
    "cursor = con.cursor()\n",
    "cursor.execute(\"SELECT * FROM Stock_OHLC\")\n",
    "cursor.fetchall()\n",
    "con.commit()\n",
    "con.close()"
   ]
  },
  {
   "cell_type": "code",
   "execution_count": 12,
   "metadata": {},
   "outputs": [
    {
     "name": "stdout",
     "output_type": "stream",
     "text": [
      "[('Kakao', '95000', '90000', '90000', '97000'), ('Kakao', '95000', '90000', '90000', '97000'), ('LG', '100000', '110000', '100000', '110000'), ('Kakao', '95000', '90000', '90000', '97000'), ('LG', '100000', '110000', '100000', '110000'), ('Kakao', '95000', '90000', '90000', '97000'), ('LG', '100000', '110000', '100000', '110000')]\n"
     ]
    }
   ],
   "source": [
    "con=sqlite3.connect(\"Stock_OHLC.db\") #close를 해버리면 다시 폴더를 열때 이렇게 connect를 해줘야 한다\n",
    "cursor = con.cursor()\n",
    "cursor.execute(\"SELECT * FROM Stock_OHLC\")\n",
    "a=cursor.fetchall()\n",
    "print(a)\n",
    "con.commit()\n",
    "con.close()"
   ]
  },
  {
   "cell_type": "markdown",
   "metadata": {},
   "source": [
    "### 정리\n",
    "\n",
    "#### con은 말 그대로 connection. db파일과 python 프로그램을 연결해주는 코드. 즉, execute를 하려면 cursor 를 이용해서 해야함\n",
    "\n",
    "#### C-> CONNECT/ , R-> SELECT FROM/, U-> INSERT INTO/, D-> DELETE FROM\n",
    "\n",
    "#### 각 execute 마다 con.commit()과 con.close()를 해주어야 한다 -> close를 한 데이터를 이어서 쓸 떈 connect, cursor 부여 다시 해주고 시작해야함.\n",
    "\n",
    "#### data가 lock에 걸렸을 떈 다시 껐다가 키면 됨"
   ]
  }
 ],
 "metadata": {
  "interpreter": {
   "hash": "f610ea9e75178993cab5c1b419d001f7469ba4109e4fdbc57edb2faf69330c92"
  },
  "kernelspec": {
   "display_name": "Python 3.9.7 64-bit ('pytrader': venv)",
   "language": "python",
   "name": "python3"
  },
  "language_info": {
   "codemirror_mode": {
    "name": "ipython",
    "version": 3
   },
   "file_extension": ".py",
   "mimetype": "text/x-python",
   "name": "python",
   "nbconvert_exporter": "python",
   "pygments_lexer": "ipython3",
   "version": "3.9.7"
  },
  "orig_nbformat": 4
 },
 "nbformat": 4,
 "nbformat_minor": 2
}

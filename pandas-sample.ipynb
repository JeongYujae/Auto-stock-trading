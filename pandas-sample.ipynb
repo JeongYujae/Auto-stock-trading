{
 "cells": [
  {
   "cell_type": "markdown",
   "metadata": {},
   "source": [
    "    ### Pandas 패키지를 활용한 데이터 프레임 구조, 및 주식데이터 그리기\n"
   ]
  },
  {
   "cell_type": "code",
   "execution_count": null,
   "metadata": {},
   "outputs": [],
   "source": [
    "import pandas as pd\n",
    "\n",
    "kakao=pd.Series([92600,92400,92100,94300,92300])\n",
    "print(kakao)"
   ]
  },
  {
   "cell_type": "code",
   "execution_count": null,
   "metadata": {},
   "outputs": [],
   "source": [
    "kakao2=pd.Series([92600,92400,92100,94300,92300], index=['2016-02-19','2016-02-18','2016-02-17','2016-02-16','2016-02-15'])\n",
    "print(kakao2)"
   ]
  },
  {
   "cell_type": "code",
   "execution_count": null,
   "metadata": {},
   "outputs": [],
   "source": [
    "kakao2=pd.Series([92600,92400,92100,94300,92300], index=['2016-02-19','2016-02-18','2016-02-17','2016-02-16','2016-02-15'])\n",
    "print(kakao2)"
   ]
  },
  {
   "cell_type": "code",
   "execution_count": null,
   "metadata": {},
   "outputs": [],
   "source": [
    "jeong=pd.Series([10,20,30], index=['AAPL','KAKAO','SAMSUNG'])\n",
    "baek=pd.Series([20,30,40], index=['SAMSUNG','KAKAO','AAPL'])\n",
    "\n",
    "merge= jeong + baek\n",
    "print(merge)\n"
   ]
  },
  {
   "cell_type": "code",
   "execution_count": null,
   "metadata": {},
   "outputs": [],
   "source": [
    "#pd.DataFrame을 사용하면 엑셀형태로 표현이 가능하다.\n",
    "\n",
    "data1={'col0':[1,2,3,4],'col1':[10,20,30,40],'col2':[100,200,300,400]}\n",
    "\n",
    "data=pd.DataFrame(data1)\n",
    "\n",
    "print(data)"
   ]
  },
  {
   "cell_type": "code",
   "execution_count": null,
   "metadata": {},
   "outputs": [],
   "source": [
    "daeshin = {'open':  [11650, 11100, 11200, 11100, 11000],\n",
    "           'high':  [12100, 11800, 11200, 11100, 11150],\n",
    "           'low' :  [11600, 11050, 10900, 10950, 10900],\n",
    "           'close': [11900, 11600, 11000, 11100, 11050]}\n",
    "\n",
    "daeshin_day=pd.DataFrame(daeshin)\n",
    "print(daeshin_day)\n"
   ]
  },
  {
   "cell_type": "code",
   "execution_count": null,
   "metadata": {},
   "outputs": [],
   "source": [
    "date = ['16.02.29', '16.02.26', '16.02.25', '16.02.24', '16.02.23']\n",
    "daeshin = pd.DataFrame({'open':  [11650, 11100, 11200, 11100, 11000],\n",
    "           'high':  [12100, 11800, 11200, 11100, 11150],\n",
    "           'low' :  [11600, 11050, 10900, 10950, 10900],\n",
    "           'close': [11900, 11600, 11000, 11100, 11050]},index=date)\n",
    "print(daeshin)"
   ]
  },
  {
   "cell_type": "markdown",
   "metadata": {},
   "source": [
    "### DataFrame 객체의 칼럼에 접근하려면 칼럼 이름을 지정하면 되고, 로우에 접근하려면 loc 메서드를 통해 인덱스 값을 지정하면 됩니다."
   ]
  },
  {
   "cell_type": "code",
   "execution_count": null,
   "metadata": {},
   "outputs": [
    {
     "ename": "",
     "evalue": "",
     "output_type": "error",
     "traceback": [
      "\u001b[1;31mFailed to start the Kernel. \n",
      "(code: 1073741845). Bad file descriptor (C:\\projects\\libzmq\\src\\epoll.cpp:100). \n",
      "View Jupyter <a href='command:jupyter.viewOutput'>log</a> for further details."
     ]
    }
   ],
   "source": [
    "a=daeshin.loc['16.02.24']\n",
    "print(a)"
   ]
  },
  {
   "cell_type": "markdown",
   "metadata": {},
   "source": [
    "#### 그래프 그리기 연습!"
   ]
  }
 ],
 "metadata": {
  "interpreter": {
   "hash": "f610ea9e75178993cab5c1b419d001f7469ba4109e4fdbc57edb2faf69330c92"
  },
  "kernelspec": {
   "display_name": "Python 3.9.7 64-bit ('pytrader': venv)",
   "language": "python",
   "name": "python3"
  },
  "language_info": {
   "name": "python",
   "version": "3.9.7"
  },
  "orig_nbformat": 4
 },
 "nbformat": 4,
 "nbformat_minor": 2
}
